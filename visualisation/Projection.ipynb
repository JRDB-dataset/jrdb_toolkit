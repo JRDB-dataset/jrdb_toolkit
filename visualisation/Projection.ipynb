{
 "cells": [
  {
   "cell_type": "markdown",
   "id": "e8854b87",
   "metadata": {},
   "source": [
    "## 3D point cloud to 2D individual images"
   ]
  },
  {
   "cell_type": "code",
   "execution_count": 10,
   "id": "220662f4",
   "metadata": {},
   "outputs": [],
   "source": [
    "import numpy as np\n",
    "import cv2\n",
    "import json\n",
    "import os\n",
    "import yaml\n",
    "import torch\n",
    "import pdb\n",
    "import open3d as o3d\n",
    "import matplotlib.pyplot as plt\n",
    "%matplotlib inline\n",
    "\n",
    "calib_folder = './calibration'\n",
    "global_config = os.path.join(calib_folder, 'defaults.yaml')\n",
    "camera_config = os.path.join(calib_folder, 'cameras.yaml')\n",
    "with open(global_config) as f:\n",
    "    global_config_dict = yaml.safe_load(f)\n",
    "\n",
    "with open(camera_config) as f:\n",
    "    camera_config_dict = yaml.safe_load(f)\n",
    "    \n",
    "def cart2hom(pts_3d: np.array) -> np.array:\n",
    "    n = pts_3d.shape[0]\n",
    "    pts_3d_hom = np.hstack((pts_3d, np.ones((n,1))))\n",
    "    return pts_3d_hom"
   ]
  },
  {
   "cell_type": "code",
   "execution_count": 11,
   "id": "f03f5c94",
   "metadata": {},
   "outputs": [],
   "source": [
    "\n",
    "TRAIN =[\n",
    "    'bytes-cafe-2019-02-07_0',\n",
    "    'clark-center-2019-02-28_0',\n",
    "    'clark-center-2019-02-28_1',\n",
    "    'clark-center-intersection-2019-02-28_0',\n",
    "    'cubberly-auditorium-2019-04-22_0',\n",
    "    'forbes-cafe-2019-01-22_0',\n",
    "    'gates-159-group-meeting-2019-04-03_0',\n",
    "    'gates-ai-lab-2019-02-08_0',\n",
    "    'gates-basement-elevators-2019-01-17_1',\n",
    "    'gates-to-clark-2019-02-28_1',\n",
    "    'hewlett-packard-intersection-2019-01-24_0',\n",
    "    'huang-2-2019-01-25_0',\n",
    "    'huang-basement-2019-01-25_0',\n",
    "    'huang-lane-2019-02-12_0',\n",
    "    'jordan-hall-2019-04-22_0',\n",
    "    'memorial-court-2019-03-16_0',\n",
    "    'meyer-green-2019-03-16_0',\n",
    "    'nvidia-aud-2019-04-18_0',\n",
    "    'packard-poster-session-2019-03-20_0',\n",
    "    'packard-poster-session-2019-03-20_1',\n",
    "    'packard-poster-session-2019-03-20_2',\n",
    "    'stlc-111-2019-04-19_0',\n",
    "    'svl-meeting-gates-2-2019-04-08_0',\n",
    "    'svl-meeting-gates-2-2019-04-08_1',\n",
    "    'tressider-2019-03-16_0',\n",
    "    'tressider-2019-03-16_1',\n",
    "    'tressider-2019-04-26_2'\n",
    "]\n"
   ]
  },
  {
   "cell_type": "code",
   "execution_count": 12,
   "id": "c3ba5d3e",
   "metadata": {},
   "outputs": [],
   "source": [
    "sensor = \"sensor_0\"\n",
    "lidar = \"upper\"\n",
    "data_root = \"/home/tho/datasets/JRDB2022/train_dataset_with_activity\"\n",
    "# translation = {\n",
    "#     \"sensor_8\": {\"upper2indi\":{\"T\": torch.tensor([0,0,-0.17]), \"theta\": 0.417*np.pi},\n",
    "#                  \"lower2indi\":{\"T\": torch.tensor([0,0,0.27]), \"theta\": 0.3935*np.pi}},\n",
    "    \n",
    "#     \"sensor_6\": {\"upper2indi\":{\"T\": torch.tensor([0,0,-0.10]), \"theta\": 0.840*np.pi},\n",
    "#                  \"lower2indi\":{\"T\": torch.tensor([0,0,0.3]), \"theta\": 0.815*np.pi}},\n",
    "    \n",
    "#     \"sensor_4\": {\"upper2indi\":{\"T\": torch.tensor([0,0,-0.22]), \"theta\": 1.235*np.pi},\n",
    "#                  \"lower2indi\":{\"T\": torch.tensor([0,0,0.26]), \"theta\": 1.21*np.pi}},\n",
    "    \n",
    "#     \"sensor_2\": {\"upper2indi\":{\"T\": torch.tensor([0,0,-0.31]), \"theta\": 1.622*np.pi},\n",
    "#                  \"lower2indi\":{\"T\": torch.tensor([0,0,0.18]), \"theta\": 1.598*np.pi}},\n",
    "    \n",
    "#     \"sensor_0\": {\"upper2indi\":{\"T\": torch.tensor([0,0,-0.25]), \"theta\": 0.028*np.pi},\n",
    "#                  \"lower2indi\":{\"T\": torch.tensor([0,0,0.18]), \"theta\": 0.005*np.pi}},\n",
    "# }\n",
    "translation = {\n",
    "    \"sensor_8\": {\"upper2indi\":{\"T\": torch.tensor([0,0,-0.17]), \"theta\": 0.417*np.pi},\n",
    "                 \"lower2indi\":{\"T\": torch.tensor([0,0,0.24]), \"theta\": 0.394*np.pi}},\n",
    "    \n",
    "    \"sensor_6\": {\"upper2indi\":{\"T\": torch.tensor([0,0,-0.10]), \"theta\": 0.840*np.pi},\n",
    "                 \"lower2indi\":{\"T\": torch.tensor([0,0,0.32]), \"theta\": 0.813*np.pi}},\n",
    "    \n",
    "    \"sensor_4\": {\"upper2indi\":{\"T\": torch.tensor([0,0,-0.22]), \"theta\": 1.237*np.pi},\n",
    "                 \"lower2indi\":{\"T\": torch.tensor([0,0,0.24]), \"theta\": 1.21*np.pi}},\n",
    "    \n",
    "    \"sensor_2\": {\"upper2indi\":{\"T\": torch.tensor([0,0,-0.31]), \"theta\": 1.622*np.pi},\n",
    "                 \"lower2indi\":{\"T\": torch.tensor([0,0,0.18]), \"theta\": 1.598*np.pi}},\n",
    "    \n",
    "    \"sensor_0\": {\"upper2indi\":{\"T\": torch.tensor([0,0,-0.25]), \"theta\": 0.028*np.pi},\n",
    "                 \"lower2indi\":{\"T\": torch.tensor([0,0,0.22]), \"theta\": 0.005*np.pi}},\n",
    "}"
   ]
  },
  {
   "cell_type": "code",
   "execution_count": null,
   "id": "3b616d68",
   "metadata": {},
   "outputs": [],
   "source": []
  },
  {
   "cell_type": "code",
   "execution_count": null,
   "id": "ae77245a",
   "metadata": {},
   "outputs": [],
   "source": []
  },
  {
   "cell_type": "code",
   "execution_count": 4,
   "id": "19033349",
   "metadata": {},
   "outputs": [
    {
     "ename": "SyntaxError",
     "evalue": "invalid syntax (1383155166.py, line 59)",
     "output_type": "error",
     "traceback": [
      "\u001B[0;36m  Input \u001B[0;32mIn [4]\u001B[0;36m\u001B[0m\n\u001B[0;31m    lidar2ego =\u001B[0m\n\u001B[0m               ^\u001B[0m\n\u001B[0;31mSyntaxError\u001B[0m\u001B[0;31m:\u001B[0m invalid syntax\n"
     ]
    }
   ],
   "source": [
    "from numpy.linalg import inv\n",
    "# loc = 'bytes-cafe-2019-02-07_0'\n",
    "# plt.figure()\n",
    "\n",
    "images = {\n",
    "    \"sensor_8\": None,\n",
    "    \"sensor_6\": None,\n",
    "    \"sensor_4\": None,\n",
    "    \"sensor_2\": None,\n",
    "    \"sensor_0\": None,\n",
    "}\n",
    "\n",
    "config = {'upper': {},\n",
    "         'lower':{}}\n",
    "#subplot(r,c) provide the no. of rows and columns\n",
    "# fig = plt.figure(figsize=(15, 15))\n",
    "for i, loc in enumerate(TRAIN):\n",
    "    for idx, (sensor, v) in enumerate(translation.items()):\n",
    "        all_pts_2d = None\n",
    "        K = np.array([np.float64(x) for x in camera_config_dict['cameras'][sensor]['K'][:-1].split()]).reshape(3,3)\n",
    "        R = np.array([np.float64(x) for x in camera_config_dict['cameras'][sensor]['R'][:-1].split()]).reshape(3,3)\n",
    "        T = np.array([np.float64(x) for x in camera_config_dict['cameras'][sensor]['T'].split()]).reshape(3,1)/1000\n",
    "        D = np.array([np.float64(x) for x in camera_config_dict['cameras'][sensor]['D'].split()])\n",
    "\n",
    "        for lidar in [\n",
    "            'upper',\n",
    "                      'lower'\n",
    "                     ]:\n",
    "            ## Lidar to ego\n",
    "            L2E_trans = -np.asarray(global_config_dict['calibrated'][f'lidar_{lidar}_to_rgb']['translation']).reshape([3,1])\n",
    "            L2E_theta = global_config_dict['calibrated'][f'lidar_{lidar}_to_rgb']['rotation'][-1]\n",
    "            c = np.cos(L2E_theta)\n",
    "            s = np.sin(L2E_theta)\n",
    "            L2E_rots = [[c,-s, 0],\n",
    "                        [s, c, 0],\n",
    "                        [0, 0, 1]]\n",
    "            lidar2ego = np.vstack([np.hstack([L2E_rots, L2E_trans]),[0,0,0,1]])\n",
    "            L2E_RT_inv = inv(lidar2ego)\n",
    "\n",
    "\n",
    "\n",
    "            lidar2indi = v[f'{lidar}2indi']\n",
    "            trans = -lidar2indi['T'].reshape([3,1])\n",
    "            t = lidar2indi['theta']\n",
    "            rots = np.zeros([4,4])\n",
    "            c = np.cos(t)\n",
    "            s = np.sin(t)\n",
    "            rots = [[c,-s, 0],\n",
    "                    [s, c, 0],\n",
    "                    [0, 0, 1]]\n",
    "            new_RT = np.vstack([np.hstack([rots, trans]),[0,0,0,1]])\n",
    "            swap = np.array([[0 ,-1, 0, 0],\n",
    "                             [0 , 0,-1, 0],\n",
    "                             [1 , 0, 0, 0],\n",
    "                             [0 , 0, 0, 1]])\n",
    "\n",
    "            old_RT = np.vstack([np.hstack((R,T)), [0,0,0,1]])\n",
    "            ego2cam = old_RT.dot(swap)\n",
    "            lidar2ego =\n",
    "            # lidar2cam = ego2cam.dot(new_RT)\n",
    "            # ego2cam = lidar2cam.dot(L2E_RT_inv)"
   ]
  },
  {
   "cell_type": "code",
   "execution_count": null,
   "id": "06f3cf69",
   "metadata": {},
   "outputs": [],
   "source": []
  },
  {
   "cell_type": "code",
   "execution_count": null,
   "id": "98a57872",
   "metadata": {},
   "outputs": [],
   "source": []
  },
  {
   "cell_type": "code",
   "execution_count": null,
   "id": "8bf60d3a",
   "metadata": {},
   "outputs": [],
   "source": []
  },
  {
   "cell_type": "markdown",
   "id": "6e077126",
   "metadata": {},
   "source": [
    "## LIDARs to camera, export calibration"
   ]
  },
  {
   "cell_type": "code",
   "execution_count": null,
   "id": "3090df11",
   "metadata": {},
   "outputs": [],
   "source": []
  },
  {
   "cell_type": "code",
   "execution_count": 14,
   "id": "5e1bb46e",
   "metadata": {},
   "outputs": [
    {
     "name": "stdout",
     "output_type": "stream",
     "text": [
      "sensor_8 lidar: upper\n",
      "sensor_8 lidar: lower\n",
      "sensor_6 lidar: upper\n",
      "sensor_6 lidar: lower\n",
      "sensor_4 lidar: upper\n",
      "sensor_4 lidar: lower\n",
      "sensor_2 lidar: upper\n",
      "sensor_2 lidar: lower\n",
      "sensor_0 lidar: upper\n",
      "sensor_0 lidar: lower\n"
     ]
    },
    {
     "name": "stderr",
     "output_type": "stream",
     "text": [
      "/tmp/ipykernel_510497/2867745967.py:109: RuntimeWarning: More than 20 figures have been opened. Figures created through the pyplot interface (`matplotlib.pyplot.figure`) are retained until explicitly closed and may consume too much memory. (To control this warning, see the rcParam `figure.max_open_warning`).\n",
      "  plt.figure(figsize=(15, 10))\n"
     ]
    },
    {
     "data": {
      "text/plain": [
       "<matplotlib.image.AxesImage at 0x7fb83156f0d0>"
      ]
     },
     "execution_count": 14,
     "metadata": {},
     "output_type": "execute_result"
    },
    {
     "data": {
      "text/plain": [
       "<Figure size 1080x720 with 0 Axes>"
      ]
     },
     "metadata": {},
     "output_type": "display_data"
    },
    {
     "data": {
      "text/plain": [
       "<Figure size 1080x720 with 0 Axes>"
      ]
     },
     "metadata": {},
     "output_type": "display_data"
    },
    {
     "data": {
      "text/plain": [
       "<Figure size 1080x720 with 0 Axes>"
      ]
     },
     "metadata": {},
     "output_type": "display_data"
    },
    {
     "data": {
      "text/plain": [
       "<Figure size 1080x720 with 0 Axes>"
      ]
     },
     "metadata": {},
     "output_type": "display_data"
    },
    {
     "data": {
      "text/plain": [
       "<Figure size 1080x720 with 0 Axes>"
      ]
     },
     "metadata": {},
     "output_type": "display_data"
    },
    {
     "data": {
      "text/plain": [
       "<Figure size 1080x720 with 0 Axes>"
      ]
     },
     "metadata": {},
     "output_type": "display_data"
    },
    {
     "data": {
      "text/plain": [
       "<Figure size 1080x720 with 0 Axes>"
      ]
     },
     "metadata": {},
     "output_type": "display_data"
    },
    {
     "data": {
      "text/plain": [
       "<Figure size 1080x720 with 0 Axes>"
      ]
     },
     "metadata": {},
     "output_type": "display_data"
    },
    {
     "data": {
      "text/plain": [
       "<Figure size 1080x720 with 0 Axes>"
      ]
     },
     "metadata": {},
     "output_type": "display_data"
    },
    {
     "data": {
      "text/plain": [
       "<Figure size 1080x720 with 0 Axes>"
      ]
     },
     "metadata": {},
     "output_type": "display_data"
    },
    {
     "data": {
      "text/plain": [
       "<Figure size 1080x720 with 0 Axes>"
      ]
     },
     "metadata": {},
     "output_type": "display_data"
    },
    {
     "data": {
      "text/plain": [
       "<Figure size 1080x720 with 0 Axes>"
      ]
     },
     "metadata": {},
     "output_type": "display_data"
    },
    {
     "data": {
      "text/plain": [
       "<Figure size 1080x720 with 0 Axes>"
      ]
     },
     "metadata": {},
     "output_type": "display_data"
    },
    {
     "data": {
      "text/plain": [
       "<Figure size 1080x720 with 0 Axes>"
      ]
     },
     "metadata": {},
     "output_type": "display_data"
    },
    {
     "data": {
      "text/plain": [
       "<Figure size 1080x720 with 0 Axes>"
      ]
     },
     "metadata": {},
     "output_type": "display_data"
    },
    {
     "data": {
      "text/plain": [
       "<Figure size 1080x720 with 0 Axes>"
      ]
     },
     "metadata": {},
     "output_type": "display_data"
    },
    {
     "data": {
      "text/plain": [
       "<Figure size 1080x720 with 0 Axes>"
      ]
     },
     "metadata": {},
     "output_type": "display_data"
    },
    {
     "data": {
      "text/plain": [
       "<Figure size 1080x720 with 0 Axes>"
      ]
     },
     "metadata": {},
     "output_type": "display_data"
    },
    {
     "data": {
      "text/plain": [
       "<Figure size 1080x720 with 0 Axes>"
      ]
     },
     "metadata": {},
     "output_type": "display_data"
    },
    {
     "data": {
      "text/plain": [
       "<Figure size 1080x720 with 0 Axes>"
      ]
     },
     "metadata": {},
     "output_type": "display_data"
    },
    {
     "data": {
      "text/plain": [
       "<Figure size 1080x720 with 0 Axes>"
      ]
     },
     "metadata": {},
     "output_type": "display_data"
    },
    {
     "data": {
      "text/plain": [
       "<Figure size 1080x720 with 0 Axes>"
      ]
     },
     "metadata": {},
     "output_type": "display_data"
    },
    {
     "data": {
      "text/plain": [
       "<Figure size 1080x720 with 0 Axes>"
      ]
     },
     "metadata": {},
     "output_type": "display_data"
    },
    {
     "data": {
      "text/plain": [
       "<Figure size 1080x720 with 0 Axes>"
      ]
     },
     "metadata": {},
     "output_type": "display_data"
    },
    {
     "data": {
      "text/plain": [
       "<Figure size 1080x720 with 0 Axes>"
      ]
     },
     "metadata": {},
     "output_type": "display_data"
    },
    {
     "data": {
      "text/plain": [
       "<Figure size 1080x720 with 0 Axes>"
      ]
     },
     "metadata": {},
     "output_type": "display_data"
    },
    {
     "data": {
      "text/plain": [
       "<Figure size 1080x720 with 0 Axes>"
      ]
     },
     "metadata": {},
     "output_type": "display_data"
    },
    {
     "data": {
      "text/plain": [
       "<Figure size 1080x720 with 0 Axes>"
      ]
     },
     "metadata": {},
     "output_type": "display_data"
    },
    {
     "data": {
      "text/plain": [
       "<Figure size 1080x720 with 0 Axes>"
      ]
     },
     "metadata": {},
     "output_type": "display_data"
    },
    {
     "data": {
      "text/plain": [
       "<Figure size 1080x720 with 0 Axes>"
      ]
     },
     "metadata": {},
     "output_type": "display_data"
    },
    {
     "data": {
      "text/plain": [
       "<Figure size 1080x720 with 0 Axes>"
      ]
     },
     "metadata": {},
     "output_type": "display_data"
    },
    {
     "data": {
      "text/plain": [
       "<Figure size 1080x720 with 0 Axes>"
      ]
     },
     "metadata": {},
     "output_type": "display_data"
    },
    {
     "data": {
      "text/plain": [
       "<Figure size 1080x720 with 0 Axes>"
      ]
     },
     "metadata": {},
     "output_type": "display_data"
    },
    {
     "data": {
      "text/plain": [
       "<Figure size 1080x720 with 0 Axes>"
      ]
     },
     "metadata": {},
     "output_type": "display_data"
    },
    {
     "data": {
      "text/plain": [
       "<Figure size 1080x720 with 0 Axes>"
      ]
     },
     "metadata": {},
     "output_type": "display_data"
    },
    {
     "data": {
      "text/plain": [
       "<Figure size 1080x720 with 0 Axes>"
      ]
     },
     "metadata": {},
     "output_type": "display_data"
    },
    {
     "data": {
      "text/plain": [
       "<Figure size 1080x720 with 0 Axes>"
      ]
     },
     "metadata": {},
     "output_type": "display_data"
    },
    {
     "data": {
      "text/plain": [
       "<Figure size 1080x720 with 0 Axes>"
      ]
     },
     "metadata": {},
     "output_type": "display_data"
    },
    {
     "data": {
      "text/plain": [
       "<Figure size 1080x720 with 0 Axes>"
      ]
     },
     "metadata": {},
     "output_type": "display_data"
    },
    {
     "data": {
      "text/plain": [
       "<Figure size 1080x720 with 0 Axes>"
      ]
     },
     "metadata": {},
     "output_type": "display_data"
    },
    {
     "data": {
      "text/plain": [
       "<Figure size 1080x720 with 0 Axes>"
      ]
     },
     "metadata": {},
     "output_type": "display_data"
    },
    {
     "data": {
      "text/plain": [
       "<Figure size 1080x720 with 0 Axes>"
      ]
     },
     "metadata": {},
     "output_type": "display_data"
    },
    {
     "data": {
      "text/plain": [
       "<Figure size 1080x720 with 0 Axes>"
      ]
     },
     "metadata": {},
     "output_type": "display_data"
    },
    {
     "data": {
      "text/plain": [
       "<Figure size 1080x720 with 0 Axes>"
      ]
     },
     "metadata": {},
     "output_type": "display_data"
    },
    {
     "data": {
      "text/plain": [
       "<Figure size 1080x720 with 0 Axes>"
      ]
     },
     "metadata": {},
     "output_type": "display_data"
    },
    {
     "data": {
      "text/plain": [
       "<Figure size 1080x720 with 0 Axes>"
      ]
     },
     "metadata": {},
     "output_type": "display_data"
    },
    {
     "data": {
      "text/plain": [
       "<Figure size 1080x720 with 0 Axes>"
      ]
     },
     "metadata": {},
     "output_type": "display_data"
    },
    {
     "data": {
      "text/plain": [
       "<Figure size 1080x720 with 0 Axes>"
      ]
     },
     "metadata": {},
     "output_type": "display_data"
    },
    {
     "data": {
      "text/plain": [
       "<Figure size 1080x720 with 0 Axes>"
      ]
     },
     "metadata": {},
     "output_type": "display_data"
    },
    {
     "data": {
      "text/plain": [
       "<Figure size 1080x720 with 0 Axes>"
      ]
     },
     "metadata": {},
     "output_type": "display_data"
    },
    {
     "data": {
      "text/plain": [
       "<Figure size 1080x720 with 0 Axes>"
      ]
     },
     "metadata": {},
     "output_type": "display_data"
    },
    {
     "data": {
      "text/plain": [
       "<Figure size 1080x720 with 0 Axes>"
      ]
     },
     "metadata": {},
     "output_type": "display_data"
    },
    {
     "data": {
      "text/plain": [
       "<Figure size 1080x720 with 0 Axes>"
      ]
     },
     "metadata": {},
     "output_type": "display_data"
    },
    {
     "data": {
      "text/plain": [
       "<Figure size 1080x720 with 0 Axes>"
      ]
     },
     "metadata": {},
     "output_type": "display_data"
    },
    {
     "data": {
      "text/plain": [
       "<Figure size 1080x720 with 0 Axes>"
      ]
     },
     "metadata": {},
     "output_type": "display_data"
    },
    {
     "data": {
      "text/plain": [
       "<Figure size 1080x720 with 0 Axes>"
      ]
     },
     "metadata": {},
     "output_type": "display_data"
    },
    {
     "data": {
      "text/plain": [
       "<Figure size 1080x720 with 0 Axes>"
      ]
     },
     "metadata": {},
     "output_type": "display_data"
    },
    {
     "data": {
      "text/plain": [
       "<Figure size 1080x720 with 0 Axes>"
      ]
     },
     "metadata": {},
     "output_type": "display_data"
    },
    {
     "data": {
      "text/plain": [
       "<Figure size 1080x720 with 0 Axes>"
      ]
     },
     "metadata": {},
     "output_type": "display_data"
    },
    {
     "data": {
      "text/plain": [
       "<Figure size 1080x720 with 0 Axes>"
      ]
     },
     "metadata": {},
     "output_type": "display_data"
    },
    {
     "data": {
      "text/plain": [
       "<Figure size 1080x720 with 0 Axes>"
      ]
     },
     "metadata": {},
     "output_type": "display_data"
    },
    {
     "data": {
      "text/plain": [
       "<Figure size 1080x720 with 0 Axes>"
      ]
     },
     "metadata": {},
     "output_type": "display_data"
    },
    {
     "data": {
      "text/plain": [
       "<Figure size 1080x720 with 0 Axes>"
      ]
     },
     "metadata": {},
     "output_type": "display_data"
    },
    {
     "data": {
      "text/plain": [
       "<Figure size 1080x720 with 0 Axes>"
      ]
     },
     "metadata": {},
     "output_type": "display_data"
    },
    {
     "data": {
      "text/plain": [
       "<Figure size 1080x720 with 0 Axes>"
      ]
     },
     "metadata": {},
     "output_type": "display_data"
    },
    {
     "data": {
      "text/plain": [
       "<Figure size 1080x720 with 0 Axes>"
      ]
     },
     "metadata": {},
     "output_type": "display_data"
    },
    {
     "data": {
      "text/plain": [
       "<Figure size 1080x720 with 0 Axes>"
      ]
     },
     "metadata": {},
     "output_type": "display_data"
    },
    {
     "data": {
      "text/plain": [
       "<Figure size 1080x720 with 0 Axes>"
      ]
     },
     "metadata": {},
     "output_type": "display_data"
    },
    {
     "data": {
      "text/plain": [
       "<Figure size 1080x720 with 0 Axes>"
      ]
     },
     "metadata": {},
     "output_type": "display_data"
    },
    {
     "data": {
      "text/plain": [
       "<Figure size 1080x720 with 0 Axes>"
      ]
     },
     "metadata": {},
     "output_type": "display_data"
    },
    {
     "data": {
      "text/plain": [
       "<Figure size 1080x720 with 0 Axes>"
      ]
     },
     "metadata": {},
     "output_type": "display_data"
    },
    {
     "data": {
      "text/plain": [
       "<Figure size 1080x720 with 0 Axes>"
      ]
     },
     "metadata": {},
     "output_type": "display_data"
    },
    {
     "data": {
      "text/plain": [
       "<Figure size 1080x720 with 0 Axes>"
      ]
     },
     "metadata": {},
     "output_type": "display_data"
    },
    {
     "data": {
      "text/plain": [
       "<Figure size 1080x720 with 0 Axes>"
      ]
     },
     "metadata": {},
     "output_type": "display_data"
    },
    {
     "data": {
      "text/plain": [
       "<Figure size 1080x720 with 0 Axes>"
      ]
     },
     "metadata": {},
     "output_type": "display_data"
    },
    {
     "data": {
      "text/plain": [
       "<Figure size 1080x720 with 0 Axes>"
      ]
     },
     "metadata": {},
     "output_type": "display_data"
    },
    {
     "data": {
      "text/plain": [
       "<Figure size 1080x720 with 0 Axes>"
      ]
     },
     "metadata": {},
     "output_type": "display_data"
    },
    {
     "data": {
      "text/plain": [
       "<Figure size 1080x720 with 0 Axes>"
      ]
     },
     "metadata": {},
     "output_type": "display_data"
    },
    {
     "data": {
      "text/plain": [
       "<Figure size 1080x720 with 0 Axes>"
      ]
     },
     "metadata": {},
     "output_type": "display_data"
    },
    {
     "data": {
      "text/plain": [
       "<Figure size 1080x720 with 0 Axes>"
      ]
     },
     "metadata": {},
     "output_type": "display_data"
    },
    {
     "data": {
      "text/plain": [
       "<Figure size 1080x720 with 0 Axes>"
      ]
     },
     "metadata": {},
     "output_type": "display_data"
    },
    {
     "data": {
      "text/plain": [
       "<Figure size 1080x720 with 0 Axes>"
      ]
     },
     "metadata": {},
     "output_type": "display_data"
    },
    {
     "data": {
      "text/plain": [
       "<Figure size 1080x720 with 0 Axes>"
      ]
     },
     "metadata": {},
     "output_type": "display_data"
    },
    {
     "data": {
      "text/plain": [
       "<Figure size 1080x720 with 0 Axes>"
      ]
     },
     "metadata": {},
     "output_type": "display_data"
    },
    {
     "data": {
      "text/plain": [
       "<Figure size 1080x720 with 0 Axes>"
      ]
     },
     "metadata": {},
     "output_type": "display_data"
    },
    {
     "data": {
      "text/plain": [
       "<Figure size 1080x720 with 0 Axes>"
      ]
     },
     "metadata": {},
     "output_type": "display_data"
    },
    {
     "data": {
      "text/plain": [
       "<Figure size 1080x720 with 0 Axes>"
      ]
     },
     "metadata": {},
     "output_type": "display_data"
    },
    {
     "data": {
      "text/plain": [
       "<Figure size 1080x720 with 0 Axes>"
      ]
     },
     "metadata": {},
     "output_type": "display_data"
    },
    {
     "data": {
      "text/plain": [
       "<Figure size 1080x720 with 0 Axes>"
      ]
     },
     "metadata": {},
     "output_type": "display_data"
    },
    {
     "data": {
      "text/plain": [
       "<Figure size 1080x720 with 0 Axes>"
      ]
     },
     "metadata": {},
     "output_type": "display_data"
    },
    {
     "data": {
      "text/plain": [
       "<Figure size 1080x720 with 0 Axes>"
      ]
     },
     "metadata": {},
     "output_type": "display_data"
    },
    {
     "data": {
      "text/plain": [
       "<Figure size 1080x720 with 0 Axes>"
      ]
     },
     "metadata": {},
     "output_type": "display_data"
    },
    {
     "data": {
      "text/plain": [
       "<Figure size 1080x720 with 0 Axes>"
      ]
     },
     "metadata": {},
     "output_type": "display_data"
    },
    {
     "data": {
      "text/plain": [
       "<Figure size 1080x720 with 0 Axes>"
      ]
     },
     "metadata": {},
     "output_type": "display_data"
    },
    {
     "data": {
      "text/plain": [
       "<Figure size 1080x720 with 0 Axes>"
      ]
     },
     "metadata": {},
     "output_type": "display_data"
    },
    {
     "data": {
      "text/plain": [
       "<Figure size 1080x720 with 0 Axes>"
      ]
     },
     "metadata": {},
     "output_type": "display_data"
    },
    {
     "data": {
      "text/plain": [
       "<Figure size 1080x720 with 0 Axes>"
      ]
     },
     "metadata": {},
     "output_type": "display_data"
    },
    {
     "data": {
      "text/plain": [
       "<Figure size 1080x720 with 0 Axes>"
      ]
     },
     "metadata": {},
     "output_type": "display_data"
    },
    {
     "data": {
      "text/plain": [
       "<Figure size 1080x720 with 0 Axes>"
      ]
     },
     "metadata": {},
     "output_type": "display_data"
    },
    {
     "data": {
      "text/plain": [
       "<Figure size 1080x720 with 0 Axes>"
      ]
     },
     "metadata": {},
     "output_type": "display_data"
    },
    {
     "data": {
      "text/plain": [
       "<Figure size 1080x720 with 0 Axes>"
      ]
     },
     "metadata": {},
     "output_type": "display_data"
    },
    {
     "data": {
      "text/plain": [
       "<Figure size 1080x720 with 0 Axes>"
      ]
     },
     "metadata": {},
     "output_type": "display_data"
    },
    {
     "data": {
      "text/plain": [
       "<Figure size 1080x720 with 0 Axes>"
      ]
     },
     "metadata": {},
     "output_type": "display_data"
    },
    {
     "data": {
      "text/plain": [
       "<Figure size 1080x720 with 0 Axes>"
      ]
     },
     "metadata": {},
     "output_type": "display_data"
    },
    {
     "data": {
      "text/plain": [
       "<Figure size 1080x720 with 0 Axes>"
      ]
     },
     "metadata": {},
     "output_type": "display_data"
    },
    {
     "data": {
      "text/plain": [
       "<Figure size 1080x720 with 0 Axes>"
      ]
     },
     "metadata": {},
     "output_type": "display_data"
    },
    {
     "data": {
      "text/plain": [
       "<Figure size 1080x720 with 0 Axes>"
      ]
     },
     "metadata": {},
     "output_type": "display_data"
    },
    {
     "data": {
      "text/plain": [
       "<Figure size 1080x720 with 0 Axes>"
      ]
     },
     "metadata": {},
     "output_type": "display_data"
    },
    {
     "data": {
      "text/plain": [
       "<Figure size 1080x720 with 0 Axes>"
      ]
     },
     "metadata": {},
     "output_type": "display_data"
    },
    {
     "data": {
      "text/plain": [
       "<Figure size 1080x720 with 0 Axes>"
      ]
     },
     "metadata": {},
     "output_type": "display_data"
    },
    {
     "data": {
      "text/plain": [
       "<Figure size 1080x720 with 0 Axes>"
      ]
     },
     "metadata": {},
     "output_type": "display_data"
    },
    {
     "data": {
      "text/plain": [
       "<Figure size 1080x720 with 0 Axes>"
      ]
     },
     "metadata": {},
     "output_type": "display_data"
    },
    {
     "data": {
      "text/plain": [
       "<Figure size 1080x720 with 0 Axes>"
      ]
     },
     "metadata": {},
     "output_type": "display_data"
    },
    {
     "data": {
      "text/plain": [
       "<Figure size 1080x720 with 0 Axes>"
      ]
     },
     "metadata": {},
     "output_type": "display_data"
    },
    {
     "data": {
      "text/plain": [
       "<Figure size 1080x720 with 0 Axes>"
      ]
     },
     "metadata": {},
     "output_type": "display_data"
    },
    {
     "data": {
      "text/plain": [
       "<Figure size 1080x720 with 0 Axes>"
      ]
     },
     "metadata": {},
     "output_type": "display_data"
    },
    {
     "data": {
      "text/plain": [
       "<Figure size 1080x720 with 0 Axes>"
      ]
     },
     "metadata": {},
     "output_type": "display_data"
    },
    {
     "data": {
      "text/plain": [
       "<Figure size 1080x720 with 0 Axes>"
      ]
     },
     "metadata": {},
     "output_type": "display_data"
    },
    {
     "data": {
      "text/plain": [
       "<Figure size 1080x720 with 0 Axes>"
      ]
     },
     "metadata": {},
     "output_type": "display_data"
    },
    {
     "data": {
      "text/plain": [
       "<Figure size 1080x720 with 0 Axes>"
      ]
     },
     "metadata": {},
     "output_type": "display_data"
    },
    {
     "data": {
      "text/plain": [
       "<Figure size 1080x720 with 0 Axes>"
      ]
     },
     "metadata": {},
     "output_type": "display_data"
    },
    {
     "data": {
      "text/plain": [
       "<Figure size 1080x720 with 0 Axes>"
      ]
     },
     "metadata": {},
     "output_type": "display_data"
    },
    {
     "data": {
      "text/plain": [
       "<Figure size 1080x720 with 0 Axes>"
      ]
     },
     "metadata": {},
     "output_type": "display_data"
    },
    {
     "data": {
      "text/plain": [
       "<Figure size 1080x720 with 0 Axes>"
      ]
     },
     "metadata": {},
     "output_type": "display_data"
    },
    {
     "data": {
      "text/plain": [
       "<Figure size 1080x720 with 0 Axes>"
      ]
     },
     "metadata": {},
     "output_type": "display_data"
    },
    {
     "data": {
      "text/plain": [
       "<Figure size 1080x720 with 0 Axes>"
      ]
     },
     "metadata": {},
     "output_type": "display_data"
    },
    {
     "data": {
      "text/plain": [
       "<Figure size 1080x720 with 0 Axes>"
      ]
     },
     "metadata": {},
     "output_type": "display_data"
    },
    {
     "data": {
      "text/plain": [
       "<Figure size 1080x720 with 0 Axes>"
      ]
     },
     "metadata": {},
     "output_type": "display_data"
    },
    {
     "data": {
      "text/plain": [
       "<Figure size 1080x720 with 0 Axes>"
      ]
     },
     "metadata": {},
     "output_type": "display_data"
    },
    {
     "data": {
      "text/plain": [
       "<Figure size 1080x720 with 0 Axes>"
      ]
     },
     "metadata": {},
     "output_type": "display_data"
    },
    {
     "data": {
      "text/plain": [
       "<Figure size 1080x720 with 0 Axes>"
      ]
     },
     "metadata": {},
     "output_type": "display_data"
    },
    {
     "data": {
      "text/plain": [
       "<Figure size 1080x720 with 0 Axes>"
      ]
     },
     "metadata": {},
     "output_type": "display_data"
    },
    {
     "data": {
      "text/plain": [
       "<Figure size 1080x720 with 0 Axes>"
      ]
     },
     "metadata": {},
     "output_type": "display_data"
    },
    {
     "data": {
      "text/plain": [
       "<Figure size 1080x720 with 0 Axes>"
      ]
     },
     "metadata": {},
     "output_type": "display_data"
    },
    {
     "data": {
      "image/png": "[encoded data removed]",
      "text/plain": [
       "<Figure size 1080x720 with 1 Axes>"
      ]
     },
     "metadata": {
      "needs_background": "light"
     },
     "output_type": "display_data"
    }
   ],
   "source": [
    "from numpy.linalg import inv\n",
    "# loc = 'bytes-cafe-2019-02-07_0'\n",
    "# plt.figure()\n",
    "\n",
    "images = {\n",
    "    \"sensor_8\": None,\n",
    "    \"sensor_6\": None,\n",
    "    \"sensor_4\": None,\n",
    "    \"sensor_2\": None,\n",
    "    \"sensor_0\": None,\n",
    "}\n",
    "\n",
    "config = {'upper': {},\n",
    "         'lower':{}}\n",
    "#subplot(r,c) provide the no. of rows and columns\n",
    "# fig = plt.figure(figsize=(15, 15))\n",
    "for i, loc in enumerate(TRAIN):\n",
    "    for idx, (sensor, v) in enumerate(translation.items()):\n",
    "        all_pts_2d = None\n",
    "        K = np.array([np.float64(x) for x in camera_config_dict['cameras'][sensor]['K'][:-1].split()]).reshape(3,3)\n",
    "        R = np.array([np.float64(x) for x in camera_config_dict['cameras'][sensor]['R'][:-1].split()]).reshape(3,3)\n",
    "        T = np.array([np.float64(x) for x in camera_config_dict['cameras'][sensor]['T'].split()]).reshape(3,1)/1000\n",
    "        D = np.array([np.float64(x) for x in camera_config_dict['cameras'][sensor]['D'].split()])\n",
    "\n",
    "        for lidar in [\n",
    "            'upper',\n",
    "                      'lower'\n",
    "                     ]:\n",
    "            ## Lidar to ego\n",
    "            L2E_trans = -np.asarray(global_config_dict['calibrated'][f'lidar_{lidar}_to_rgb']['translation']).reshape([3,1])\n",
    "            L2E_theta = global_config_dict['calibrated'][f'lidar_{lidar}_to_rgb']['rotation'][-1]\n",
    "            c = np.cos(L2E_theta)\n",
    "            s = np.sin(L2E_theta)\n",
    "            L2E_rots = [[c,-s, 0],\n",
    "                        [s, c, 0],\n",
    "                        [0, 0, 1]]\n",
    "            lidar2ego = np.vstack([np.hstack([L2E_rots, L2E_trans]),[0,0,0,1]])\n",
    "            L2E_RT_inv = inv(lidar2ego)\n",
    "            \n",
    "\n",
    "\n",
    "            lidar2indi = v[f'{lidar}2indi']\n",
    "            trans = -lidar2indi['T'].reshape([3,1])\n",
    "            t = lidar2indi['theta']\n",
    "            rots = np.zeros([4,4])\n",
    "            c = np.cos(t)\n",
    "            s = np.sin(t)\n",
    "            rots = [[c,-s, 0],\n",
    "                    [s, c, 0],\n",
    "                    [0, 0, 1]]\n",
    "            new_RT = np.vstack([np.hstack([rots, trans]),[0,0,0,1]])\n",
    "            swap = np.array([[0 ,-1, 0, 0],\n",
    "                             [0 , 0,-1, 0],\n",
    "                             [1 , 0, 0, 0],\n",
    "                             [0 , 0, 0, 1]])\n",
    "\n",
    "            old_RT = np.vstack([np.hstack((R,T)), [0,0,0,1]])\n",
    "            ego2cam = old_RT.dot(swap)\n",
    "            lidar2cam = ego2cam.dot(new_RT)\n",
    "            ego2cam = lidar2cam.dot(L2E_RT_inv)\n",
    "            if i == 0:\n",
    "                print(sensor, f\"lidar: {lidar}\")\n",
    "                config[sensor] = {}\n",
    "                config[lidar]['lidar2ego'] = lidar2ego.tolist()\n",
    "                # config[lidar][sensor] ={}\n",
    "                # config[lidar][sensor]['ego2cam'] = ego2cam.tolist()\n",
    "                config[sensor]['ego2cam'] = ego2cam.tolist()\n",
    "                config[sensor]['D'] = D.tolist()\n",
    "                config[sensor]['K'] = K.tolist()\n",
    "\n",
    "\n",
    "            pcd = o3d.io.read_point_cloud(f\"{data_root}/pointclouds/{lidar}_velodyne/{loc}/000000.pcd\")\n",
    "            image = cv2.imread(f\"{data_root}/images/image_{sensor[-1]}/{loc}/000000.jpg\")\n",
    "\n",
    "            points_3d = np.array(pcd.points)\n",
    "            hom_points = cart2hom(points_3d)\n",
    "\n",
    "#             pts_ref = np.dot(lidar2cam, np.transpose(hom_points))\n",
    "            pts_ref = ego2cam.dot(lidar2ego).dot(np.transpose(hom_points))\n",
    "            pts_ref = np.transpose(pts_ref)\n",
    "            pts_ref = pts_ref[pts_ref[:,2]>0]\n",
    "\n",
    "            # Normalize\n",
    "            x, y = pts_ref[:,0]/pts_ref[:,2], pts_ref[:,1]/pts_ref[:,2]\n",
    "\n",
    "            # Calculate radial distortion\n",
    "            k1,k2,k3,k4,k5 = D\n",
    "            k6 = 0\n",
    "\n",
    "            r2 = x**2 + y**2\n",
    "            r4 = r2**2\n",
    "            r6 = r2 * r4\n",
    "            rad_dist = (1 + k1*r2 + k2*r4 + k3*r6) \n",
    "            # Get intrinsics params\n",
    "            fx, _, cx = K[0]\n",
    "            _, fy, cy = K[1]\n",
    "            # Apply radial distortion and intrinsic parameters\n",
    "            xd = fx * x * rad_dist + cx\n",
    "            yd = fy * y * rad_dist + cy\n",
    "            # Get the 2D points\n",
    "            pts_2d = np.stack([xd,yd]).transpose()\n",
    "\n",
    "            if all_pts_2d is not None:\n",
    "                all_pts_2d = np.vstack([all_pts_2d, pts_2d])\n",
    "            else:\n",
    "                all_pts_2d = pts_2d\n",
    "\n",
    "        # Visualize\n",
    "        plt.figure(figsize=(15, 10))\n",
    "        hsv_image = cv2.cvtColor(image, cv2.COLOR_BGR2HSV)\n",
    "        for pts in all_pts_2d:\n",
    "            if (0<pts[0]<1000) and (0<pts[1]<1000):\n",
    "                cv2.circle(hsv_image, (int(pts[0]), int(pts[1])), 1, (0, 255, 255), 1)\n",
    "        hsv_image = cv2.cvtColor(hsv_image, cv2.COLOR_HSV2BGR)\n",
    "\n",
    "\n",
    "        images[sensor] = hsv_image\n",
    "\n",
    "    final_image = cv2.hconcat([images['sensor_6'], images['sensor_8'],\n",
    "                               images['sensor_0'], images['sensor_2'],\n",
    "                               images['sensor_4']])\n",
    "    os.makedirs(f\"sample_projection\", exist_ok=True)\n",
    "\n",
    "    cv2.imwrite(f\"sample_projection/{loc}_projected.png\", final_image)\n",
    "plt.imshow(cv2.cvtColor(final_image, cv2.COLOR_BGR2RGB))\n",
    "\n",
    "    "
   ]
  },
  {
   "cell_type": "code",
   "execution_count": 14,
   "id": "a9d9d21f",
   "metadata": {},
   "outputs": [],
   "source": [
    "import sys\n",
    "import ruamel.yaml\n",
    "yaml = ruamel.yaml.YAML()\n",
    "yaml.version = (1,2)\n",
    "yaml.default_flow_style = None\n",
    "\n",
    "with open('calibration/lidars.yaml', 'w') as outfile:\n",
    "    yaml.dump(config, outfile)\n",
    "    \n",
    "import yaml   "
   ]
  },
  {
   "cell_type": "code",
   "execution_count": null,
   "id": "87299471",
   "metadata": {},
   "outputs": [],
   "source": []
  }
 ],
 "metadata": {
  "kernelspec": {
   "display_name": "Python 3 (ipykernel)",
   "language": "python",
   "name": "python3"
  },
  "language_info": {
   "codemirror_mode": {
    "name": "ipython",
    "version": 3
   },
   "file_extension": ".py",
   "mimetype": "text/x-python",
   "name": "python",
   "nbconvert_exporter": "python",
   "pygments_lexer": "ipython3",
   "version": "3.9.6"
  }
 },
 "nbformat": 4,
 "nbformat_minor": 5
}
